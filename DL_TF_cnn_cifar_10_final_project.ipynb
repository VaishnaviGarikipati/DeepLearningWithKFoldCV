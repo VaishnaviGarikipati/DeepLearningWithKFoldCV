{
 "cells": [
  {
   "cell_type": "markdown",
   "metadata": {},
   "source": [
    "# ADTA 5900: CNN on CIFAR-10: Final Project"
   ]
  },
  {
   "cell_type": "markdown",
   "metadata": {},
   "source": [
    "## Set Path for Data Folder"
   ]
  },
  {
   "cell_type": "code",
   "execution_count": 1,
   "metadata": {},
   "outputs": [],
   "source": [
    " # Put file path as a string here\n",
    "\n",
    "CIFAR_DIR = 'CIFAR_10_DATA/'"
   ]
  },
  {
   "cell_type": "markdown",
   "metadata": {},
   "source": [
    "## Load Data"
   ]
  },
  {
   "cell_type": "code",
   "execution_count": 2,
   "metadata": {},
   "outputs": [],
   "source": [
    "# function to read files present in the Python version of the dataset\n",
    "\n",
    "def unpickle(file):\n",
    "    import pickle\n",
    "    with open(file, 'rb') as fo:\n",
    "        cifar_dict = pickle.load(fo, encoding='bytes')\n",
    "    return cifar_dict"
   ]
  },
  {
   "cell_type": "code",
   "execution_count": 3,
   "metadata": {},
   "outputs": [],
   "source": [
    "dirs = ['batches.meta','data_batch_1','data_batch_2','data_batch_3','data_batch_4','data_batch_5','test_batch']\n",
    "\n",
    "all_data = [0,1,2,3,4,5,6]\n",
    "\n",
    "for i,direc in zip(all_data,dirs):\n",
    "    all_data[i] = unpickle(CIFAR_DIR+direc)"
   ]
  },
  {
   "cell_type": "code",
   "execution_count": 4,
   "metadata": {},
   "outputs": [
    {
     "data": {
      "text/plain": [
       "list"
      ]
     },
     "execution_count": 4,
     "metadata": {},
     "output_type": "execute_result"
    }
   ],
   "source": [
    "type(all_data)"
   ]
  },
  {
   "cell_type": "code",
   "execution_count": 5,
   "metadata": {},
   "outputs": [],
   "source": [
    "batch_meta = all_data[0]\n",
    "data_batch1 = all_data[1]\n",
    "data_batch2 = all_data[2]\n",
    "data_batch3 = all_data[3]\n",
    "data_batch4 = all_data[4]\n",
    "data_batch5 = all_data[5]\n",
    "test_batch = all_data[6]"
   ]
  },
  {
   "cell_type": "code",
   "execution_count": 6,
   "metadata": {},
   "outputs": [
    {
     "data": {
      "text/plain": [
       "{b'num_cases_per_batch': 10000,\n",
       " b'label_names': [b'airplane',\n",
       "  b'automobile',\n",
       "  b'bird',\n",
       "  b'cat',\n",
       "  b'deer',\n",
       "  b'dog',\n",
       "  b'frog',\n",
       "  b'horse',\n",
       "  b'ship',\n",
       "  b'truck'],\n",
       " b'num_vis': 3072}"
      ]
     },
     "execution_count": 6,
     "metadata": {},
     "output_type": "execute_result"
    }
   ],
   "source": [
    "batch_meta"
   ]
  },
  {
   "cell_type": "code",
   "execution_count": 7,
   "metadata": {},
   "outputs": [
    {
     "data": {
      "text/plain": [
       "dict_keys([b'batch_label', b'labels', b'data', b'filenames'])"
      ]
     },
     "execution_count": 7,
     "metadata": {},
     "output_type": "execute_result"
    }
   ],
   "source": [
    "data_batch1.keys()"
   ]
  },
  {
   "cell_type": "code",
   "execution_count": 8,
   "metadata": {},
   "outputs": [
    {
     "name": "stdout",
     "output_type": "stream",
     "text": [
      "10000\n",
      "3072\n"
     ]
    }
   ],
   "source": [
    "print(len(data_batch1[b'data']))\n",
    "print(len(data_batch1[b'data'][0]))"
   ]
  },
  {
   "cell_type": "markdown",
   "metadata": {},
   "source": [
    "## Display several examples of single images using matplotlib "
   ]
  },
  {
   "cell_type": "code",
   "execution_count": 9,
   "metadata": {},
   "outputs": [],
   "source": [
    "import matplotlib.pyplot as plt\n",
    "%matplotlib inline\n",
    "\n",
    "import numpy as np"
   ]
  },
  {
   "cell_type": "code",
   "execution_count": 10,
   "metadata": {},
   "outputs": [],
   "source": [
    "X = data_batch1[b\"data\"] "
   ]
  },
  {
   "cell_type": "code",
   "execution_count": 11,
   "metadata": {},
   "outputs": [],
   "source": [
    "X = X.reshape(10000, 3, 32, 32).transpose(0,2,3,1).astype(\"uint8\")"
   ]
  },
  {
   "cell_type": "code",
   "execution_count": 12,
   "metadata": {},
   "outputs": [
    {
     "data": {
      "text/plain": [
       "255"
      ]
     },
     "execution_count": 12,
     "metadata": {},
     "output_type": "execute_result"
    }
   ],
   "source": [
    "X[0].max()"
   ]
  },
  {
   "cell_type": "code",
   "execution_count": 13,
   "metadata": {},
   "outputs": [
    {
     "data": {
      "text/plain": [
       "1.0"
      ]
     },
     "execution_count": 13,
     "metadata": {},
     "output_type": "execute_result"
    }
   ],
   "source": [
    "(X[0]/255).max()"
   ]
  },
  {
   "cell_type": "code",
   "execution_count": 14,
   "metadata": {},
   "outputs": [
    {
     "data": {
      "text/plain": [
       "<matplotlib.image.AxesImage at 0x7f833a5eec90>"
      ]
     },
     "execution_count": 14,
     "metadata": {},
     "output_type": "execute_result"
    },
    {
     "data": {
      "image/png": "[encoded data removed]",
      "text/plain": [
       "<Figure size 432x288 with 1 Axes>"
      ]
     },
     "metadata": {
      "needs_background": "light"
     },
     "output_type": "display_data"
    }
   ],
   "source": [
    "plt.imshow(X[0])"
   ]
  },
  {
   "cell_type": "code",
   "execution_count": 15,
   "metadata": {},
   "outputs": [
    {
     "data": {
      "text/plain": [
       "<matplotlib.image.AxesImage at 0x7f833a4d8b90>"
      ]
     },
     "execution_count": 15,
     "metadata": {},
     "output_type": "execute_result"
    },
    {
     "data": {
      "image/png": "[encoded data removed]",
      "text/plain": [
       "<Figure size 432x288 with 1 Axes>"
      ]
     },
     "metadata": {
      "needs_background": "light"
     },
     "output_type": "display_data"
    }
   ],
   "source": [
    "plt.imshow(X[1])"
   ]
  },
  {
   "cell_type": "code",
   "execution_count": 16,
   "metadata": {},
   "outputs": [
    {
     "data": {
      "text/plain": [
       "<matplotlib.image.AxesImage at 0x7f833a4545d0>"
      ]
     },
     "execution_count": 16,
     "metadata": {},
     "output_type": "execute_result"
    },
    {
     "data": {
      "image/png": "[encoded data removed]",
      "text/plain": [
       "<Figure size 432x288 with 1 Axes>"
      ]
     },
     "metadata": {
      "needs_background": "light"
     },
     "output_type": "display_data"
    }
   ],
   "source": [
    "plt.imshow(X[2])"
   ]
  },
  {
   "cell_type": "markdown",
   "metadata": {},
   "source": [
    "## Supporting Functions to Rearrange Data"
   ]
  },
  {
   "cell_type": "markdown",
   "metadata": {},
   "source": [
    "### Encode Labels into One-Hot Format"
   ]
  },
  {
   "cell_type": "code",
   "execution_count": 17,
   "metadata": {},
   "outputs": [],
   "source": [
    "def one_hot_encode(vec, vals=10):\n",
    "    '''\n",
    "    For use to one-hot encode the 10- possible labels\n",
    "    '''\n",
    "    n = len(vec)\n",
    "    out = np.zeros((n, vals))\n",
    "    out[range(n), vec] = 1\n",
    "    return out"
   ]
  },
  {
   "cell_type": "markdown",
   "metadata": {},
   "source": [
    "## Set Up Image Data: Make it Ready to be Fed into 1st Conv Layer"
   ]
  },
  {
   "cell_type": "code",
   "execution_count": 18,
   "metadata": {},
   "outputs": [],
   "source": [
    "class CifarHelper():\n",
    "    \n",
    "    def __init__(self):\n",
    "        self.i = 0\n",
    "        \n",
    "        self.all_train_batches = [data_batch1,data_batch2,data_batch3,data_batch4,data_batch5]\n",
    "        self.test_batch = [test_batch]\n",
    "        \n",
    "        self.training_images = None\n",
    "        self.training_labels = None\n",
    "        \n",
    "        self.test_images = None\n",
    "        self.test_labels = None\n",
    "    \n",
    "    def set_up_images(self):\n",
    "        \n",
    "        print(\"Setting Up Training Images and Labels\")\n",
    "        \n",
    "        self.training_images = np.vstack([d[b\"data\"] for d in self.all_train_batches])\n",
    "        train_len = len(self.training_images)\n",
    "        \n",
    "        self.training_images = self.training_images.reshape(train_len,3,32,32).transpose(0,2,3,1)/255\n",
    "        self.training_labels = one_hot_encode(np.hstack([d[b\"labels\"] for d in self.all_train_batches]), 10)\n",
    "        \n",
    "        print(\"Setting Up Test Images and Labels\")\n",
    "        \n",
    "        self.test_images = np.vstack([d[b\"data\"] for d in self.test_batch])\n",
    "        test_len = len(self.test_images)\n",
    "        \n",
    "        self.test_images = self.test_images.reshape(test_len,3,32,32).transpose(0,2,3,1)/255\n",
    "        self.test_labels = one_hot_encode(np.hstack([d[b\"labels\"] for d in self.test_batch]), 10)\n",
    "\n",
    "        \n",
    "    def next_batch(self, batch_size):\n",
    "        x = self.training_images[self.i:self.i+batch_size].reshape(100,32,32,3)\n",
    "        y = self.training_labels[self.i:self.i+batch_size]\n",
    "        self.i = (self.i + batch_size) % len(self.training_images)\n",
    "        return x, y"
   ]
  },
  {
   "cell_type": "markdown",
   "metadata": {},
   "source": [
    "## Set up image data: Calling CifarHelper.set_up_images()"
   ]
  },
  {
   "cell_type": "code",
   "execution_count": 19,
   "metadata": {},
   "outputs": [
    {
     "name": "stdout",
     "output_type": "stream",
     "text": [
      "Setting Up Training Images and Labels\n",
      "Setting Up Test Images and Labels\n"
     ]
    }
   ],
   "source": [
    "# Before Your tf.Session run these two lines\n",
    "ch = CifarHelper()\n",
    "ch.set_up_images()\n",
    "\n",
    "# During your session to grab the next batch use this line\n",
    "# (Just like we did for mnist.train.next_batch)\n",
    "# batch = ch.next_batch(100)"
   ]
  },
  {
   "cell_type": "markdown",
   "metadata": {},
   "source": [
    "## Define Supporting Functions to Build, Train, and Test CNN Model"
   ]
  },
  {
   "cell_type": "markdown",
   "metadata": {},
   "source": [
    "### Initialize Weights in Filter"
   ]
  },
  {
   "cell_type": "code",
   "execution_count": 20,
   "metadata": {},
   "outputs": [],
   "source": [
    "# this function returns a tf.variable used to store weights in a filter\n",
    "# this variable is initialized wth values that can be used to infiltrate weights\n",
    "# the values are random numbers\n",
    "\n",
    "def initialize_weights(filter_shape):\n",
    "    init_random_dist = tf.truncated_normal(filter_shape,stddev = 0.1)\n",
    "    return (tf.Variable(init_random_dist))"
   ]
  },
  {
   "cell_type": "markdown",
   "metadata": {},
   "source": [
    "### Initialize bias"
   ]
  },
  {
   "cell_type": "code",
   "execution_count": 21,
   "metadata": {},
   "outputs": [],
   "source": [
    "# this function returns a tf.variable used to store bias\n",
    "# this variable is initialized with values that can be used to initialize bias\n",
    "# the value is initialized to 0.1\n",
    "\n",
    "def initialize_bias(bias_shape):\n",
    "    initial_bias_value = tf.constant(0.1, shape=bias_shape)\n",
    "    return(tf.Variable(initial_bias_value))"
   ]
  },
  {
   "cell_type": "markdown",
   "metadata": {},
   "source": [
    "## set up convolution layer and perform convolution computation: dot product(x*W)"
   ]
  },
  {
   "cell_type": "code",
   "execution_count": 22,
   "metadata": {},
   "outputs": [],
   "source": [
    "# define a function to set up a convolution layer (conv2d)\n",
    "# parameters:\n",
    "# --) inputs: [batch, H, W, Channels]\n",
    "# --) filter_shape:\n",
    "# [filter H, filter W, in_channels (in_depth = in_num_filters),out_channels(out_depth = out_num_filters)]\n",
    "# for example: [5,5,1,32]\n",
    "# Return: OUtputs of layer: the dot product: inputs*weights: x*W\n",
    "\n",
    "def create_convolution_layer_and_compute_dot_product(inputs,filter_shape):\n",
    "    \n",
    "    # Initialize the weights in the filter\n",
    "    filter_initialized_with_weights = initialize_weights(filter_shape)\n",
    "    \n",
    "    # Create a convolution layer\n",
    "    conv_layer_outputs = tf.nn.conv2d(inputs,filter_initialized_with_weights, strides=[1,1,1,1],padding=\"SAME\")\n",
    "    \n",
    "    # Return the convolution layer outputs\n",
    "    return(conv_layer_outputs)"
   ]
  },
  {
   "cell_type": "markdown",
   "metadata": {},
   "source": [
    "## Set Up a ReLU Layer and Perform Computation: Dot Product + Bias(x.W+b)"
   ]
  },
  {
   "cell_type": "code",
   "execution_count": 23,
   "metadata": {},
   "outputs": [],
   "source": [
    "# define a function\n",
    "# --) first, to set up a ReLU layer : an activation function layer\n",
    "# --) then, perform the computaion: dot product + bias: ( x * W ) + b\n",
    "\n",
    "# ReLU: Rectified linear unit - a popular actication function used in CNN\n",
    "# in this layer, the bias has been initialized\n",
    "# parameters:\n",
    "# --) inputs: outputs from the preceeding convolution layer: dot product inputs*weights\n",
    "# --) filter_shape:\n",
    "# [filter H, filter W, in_channels (in_depth = in_num_filters),out_channels(out_depth = out_num_filters) )]\n",
    "# for example: [5,5,1,32]\n",
    "\n",
    "# Return: OUtputs of layer: the dot product+b: inputs*weights: ( x * W ) + b\n",
    "\n",
    "def create_relu_layer_and_compute_dot_product_plus_b(inputs,filter_shape):\n",
    "    \n",
    "    # Initialize bias for each input channel\n",
    "    b = initialize_bias ([filter_shape[3]])\n",
    "    \n",
    "    # perform the computatoin first by adding: inputs ( x * W ) + b\n",
    "    # create a ReLU Layer associated with the preceeding convolution layer\n",
    "    relu_layer_outputs = tf.nn.relu(inputs + b)\n",
    "    \n",
    "    # Return the relu layer outputs\n",
    "    return(relu_layer_outputs)"
   ]
  },
  {
   "cell_type": "markdown",
   "metadata": {},
   "source": [
    "## set up a pooling layer and reduce spatial size"
   ]
  },
  {
   "cell_type": "code",
   "execution_count": 24,
   "metadata": {},
   "outputs": [],
   "source": [
    "# define a function\n",
    "# --) first, to create a pooling layer\n",
    "# --) then, to reduce the spatial size of the inputs data\n",
    "\n",
    "# pooling method: Max pooling\n",
    "# kernel size: 2/2\n",
    "# stride: 2\n",
    "\n",
    "# parameters:\n",
    "# --) inputs: outputs of the preceding layer\n",
    "# return: outputs of the layer\n",
    "\n",
    "def create_maxpool2by2_and_reduce_spacial_size(inputs):\n",
    "    \n",
    "    #create a pooling layer\n",
    "    pooling_layer_outputs = tf.nn.max_pool(inputs, ksize = [1,2,2,1],strides=[1,2,2,1], padding =\"SAME\")\n",
    "    \n",
    "    # return the pooling layer\n",
    "    return (pooling_layer_outputs)"
   ]
  },
  {
   "cell_type": "markdown",
   "metadata": {},
   "source": [
    "## set up fully connected layer and perform computation: ( inputs * weights ) + bias"
   ]
  },
  {
   "cell_type": "code",
   "execution_count": 25,
   "metadata": {},
   "outputs": [],
   "source": [
    "# define a function to set up a fully connected layer\n",
    "# also perform computation: (dot prodeuct (inputs * weights)) + bias\n",
    "# return the results\n",
    "# parametrs\n",
    "# --) inputs: outputs of the preceding layer\n",
    "# --) size: thge size of the outputs, i.e. number of out_channels\n",
    "\n",
    "def create_fully_connected_layer_and_compute_dotproduct_plus_bias(inputs, output_size):\n",
    "    \n",
    "    # get the number of input channels from the input\n",
    "    # inputs: the outputs of the preceding layer or previous operation like reshaping\n",
    "    input_size = int(inputs.get_shape()[1])\n",
    "    \n",
    "    # initialize the weights of the filter of the FC layer\n",
    "    # filter shape [in_channels, out_channels]\n",
    "    # each weight for one filter cell\n",
    "    W = initialize_weights([input_size, output_size])\n",
    "    \n",
    "    # initialize the bias: each bias one output channel\n",
    "    b = initialize_bias([output_size])\n",
    "    \n",
    "    # --) first, perform the computation for the FC layer: Dot produt inputs + W\n",
    "    # --) then, add bias to get the results: outputs of the FC layer\n",
    "    fc_xW_plus_bias_outputs = tf.matmul(inputs, W) + b\n",
    "    \n",
    "    # return the results: outputs\n",
    "    return(fc_xW_plus_bias_outputs)"
   ]
  },
  {
   "cell_type": "markdown",
   "metadata": {},
   "source": [
    "# PHASE I: Build Convolutional Neural Network"
   ]
  },
  {
   "cell_type": "code",
   "execution_count": 26,
   "metadata": {},
   "outputs": [],
   "source": [
    "import tensorflow as tf"
   ]
  },
  {
   "cell_type": "markdown",
   "metadata": {},
   "source": [
    "## Create Placeholders for Inputs and Labels: x and y_true"
   ]
  },
  {
   "cell_type": "code",
   "execution_count": 27,
   "metadata": {},
   "outputs": [],
   "source": [
    "# PLACEHOLDER\n",
    "\n",
    "# Create a placeholder for the inputs data: x\n",
    "# x: a 2D array\n",
    "# x: a placeholder that can hold any number of rows/record\n",
    "\n",
    "x = tf.placeholder(tf.float32, shape=[None, 32, 32, 3])"
   ]
  },
  {
   "cell_type": "code",
   "execution_count": 28,
   "metadata": {},
   "outputs": [],
   "source": [
    "# PLACEHOLDER\n",
    "\n",
    "# Create a placeholder for the labels of the inputs data: y_true\n",
    "# y_true: a 2D array\n",
    "# y_true: Can hold any number of rows/records\n",
    "\n",
    "y_true = tf.placeholder(tf.float32, [None, 10])"
   ]
  },
  {
   "cell_type": "markdown",
   "metadata": {},
   "source": [
    "## Reshape the Input Placeholder x: NOT NEED TO RESHAPE DATA HERE"
   ]
  },
  {
   "cell_type": "code",
   "execution_count": 29,
   "metadata": {},
   "outputs": [],
   "source": [
    "# DO NOTHING -- DON'T NEED TO RESHAPE - DATA IS ALREADY IN GOOD SHAPE TO BE FED INTO 1ST CONVOLUTION LAYER"
   ]
  },
  {
   "cell_type": "markdown",
   "metadata": {},
   "source": [
    "## Create 1st Convolution Layer and so on ............."
   ]
  },
  {
   "cell_type": "code",
   "execution_count": 30,
   "metadata": {},
   "outputs": [],
   "source": [
    "# Create 1st convolutional layer, ReLu Layer, and Perform Computation: x*W + b\n",
    "\n",
    "# Filter Shape: 5x5, input channels:1, output channels:32\n",
    "# create 1st convolution layer then extract features and get the results of output that is dot product of inputs * weights\n",
    "conv_layer_1_outputs \\\n",
    "    =create_convolution_layer_and_compute_dot_product (x, filter_shape=[5,5,3,32])\n",
    "\n",
    "# create ReLu Layer for 1st convolution layer, accept the outputs from 1st conv as inputs\n",
    "# perform computation and return the outputs of layer\n",
    "\n",
    "conv_relu_layer_1_outputs \\\n",
    "    = create_relu_layer_and_compute_dot_product_plus_b(conv_layer_1_outputs, filter_shape=[5,5,3,32])"
   ]
  },
  {
   "cell_type": "code",
   "execution_count": 31,
   "metadata": {},
   "outputs": [],
   "source": [
    "#create 1st pooling layer and reduce spatial size\n",
    "\n",
    "pooling_layer_1_outputs = create_maxpool2by2_and_reduce_spacial_size(conv_relu_layer_1_outputs)"
   ]
  },
  {
   "cell_type": "markdown",
   "metadata": {},
   "source": [
    "### Create 2nd Convolutional Layer, ReLu Layer and Pooling Layer"
   ]
  },
  {
   "cell_type": "code",
   "execution_count": 32,
   "metadata": {},
   "outputs": [],
   "source": [
    "# Create 2nd convolutional layer\n",
    "\n",
    "# Filter Shape: 5x5, input channels:32, output channels:64\n",
    "# create 2nd convolution layer then extract features and get the results of output that is dot product of inputs * weights\n",
    "conv_layer_2_outputs \\\n",
    "    =create_convolution_layer_and_compute_dot_product(pooling_layer_1_outputs, filter_shape=[5,5,32,64])\n",
    "\n",
    "# return the outputs of the layer\n",
    "# create ReLu Layer for 1st convolution layer, accept the outputs from 1st conv as inputs\n",
    "# perform computation and return the outputs of layer\n",
    "\n",
    "conv_relu_layer_2_outputs \\\n",
    "    =create_relu_layer_and_compute_dot_product_plus_b(conv_layer_2_outputs, filter_shape=[5,5,32,64])"
   ]
  },
  {
   "cell_type": "code",
   "execution_count": 33,
   "metadata": {},
   "outputs": [],
   "source": [
    "# create 2nd pooling layer and reduce spatial size\n",
    "\n",
    "pooling_layer_2_outputs = create_maxpool2by2_and_reduce_spacial_size (conv_relu_layer_2_outputs)"
   ]
  },
  {
   "cell_type": "markdown",
   "metadata": {},
   "source": [
    "### reshape/flatten data making it ready to be fed into 1st FC layer"
   ]
  },
  {
   "cell_type": "code",
   "execution_count": 34,
   "metadata": {},
   "outputs": [],
   "source": [
    "# reshape and flatten the output of the 2nd pooling layer\n",
    "# prepare to fedd the output data into 1st fully connected layer\n",
    "\n",
    "pooling_layer_2_outputs_flat = tf.reshape(pooling_layer_2_outputs,[-1,8*8*64])"
   ]
  },
  {
   "cell_type": "markdown",
   "metadata": {},
   "source": [
    "### create 1st FC Layer, ReLU layer, and output data to dropout layer"
   ]
  },
  {
   "cell_type": "code",
   "execution_count": 35,
   "metadata": {},
   "outputs": [],
   "source": [
    "# first, create the FC (fully connected) layer\n",
    "# feed the output (already flattened) of the 2nd pooling layer as the inputs into this layer\n",
    "# then perform the computation: dot product + bias: ( x * W ) + b\n",
    "\n",
    "# parametrs:\n",
    "#--) pooling_layer_2_outputs_flat\n",
    "#--) output_size:1024 out channels\n",
    "\n",
    "# return: outputs of the computation: ( x * W ) + b\n",
    "\n",
    "fc_layer_1_outputs \\\n",
    "= create_fully_connected_layer_and_compute_dotproduct_plus_bias(pooling_layer_2_outputs_flat,output_size=1024)\n",
    "\n",
    "# create the ReLU Layer of the 1st FC Layer\n",
    "# VIP NOTES: the activation function of this layer is also ReLU\n",
    "\n",
    "# return: outputs of the layer\n",
    "fc_relu_layer_1_outputs =tf.nn.relu(fc_layer_1_outputs)"
   ]
  },
  {
   "cell_type": "markdown",
   "metadata": {},
   "source": [
    "### create dropout layer and dropout a fraction of outputs randomly"
   ]
  },
  {
   "cell_type": "code",
   "execution_count": 36,
   "metadata": {},
   "outputs": [
    {
     "name": "stdout",
     "output_type": "stream",
     "text": [
      "WARNING:tensorflow:From <ipython-input-36-4b36f1a62971>:10: calling dropout (from tensorflow.python.ops.nn_ops) with keep_prob is deprecated and will be removed in a future version.\n",
      "Instructions for updating:\n",
      "Please use `rate` instead of `keep_prob`. Rate should be set to `rate = 1 - keep_prob`.\n"
     ]
    }
   ],
   "source": [
    "# declare a placeholder to hold the value of probability (percentage %) to keep:\n",
    "# i.e. the percentage % of total output channels that will be kept\n",
    "# e.g.: keep_prob = hold_prob = 50% --> dropout 50%\n",
    "# which nodes/channels to keep or dropout: selected randomly\n",
    "\n",
    "hold_prob = tf.placeholder(tf.float32)\n",
    "\n",
    "# dropout:\n",
    "# set the outputs to 0 so that they will be ignored  in the next layer\n",
    "fc_dropout_outputs = tf.nn.dropout(fc_relu_layer_1_outputs, keep_prob=hold_prob)"
   ]
  },
  {
   "cell_type": "markdown",
   "metadata": {},
   "source": [
    "### create final FC Layer, compute ( x * W + b ) and produce final outputs"
   ]
  },
  {
   "cell_type": "code",
   "execution_count": 37,
   "metadata": {},
   "outputs": [],
   "source": [
    "# create the final fc layer\n",
    "# then compute:x * W + b\n",
    "# parameters:\n",
    "# --) fc_dropout_outputs: outputs from dropout layer\n",
    "# --)\n",
    "\n",
    "# return y_pred: final predicted outputs, i.e., final classification outputs\n",
    "\n",
    "y_pred = create_fully_connected_layer_and_compute_dotproduct_plus_bias(fc_dropout_outputs,output_size=10)"
   ]
  },
  {
   "cell_type": "markdown",
   "metadata": {},
   "source": [
    "### define loss function and calculate softmax cross entropy loss"
   ]
  },
  {
   "cell_type": "code",
   "execution_count": 38,
   "metadata": {},
   "outputs": [
    {
     "name": "stdout",
     "output_type": "stream",
     "text": [
      "WARNING:tensorflow:From <ipython-input-38-c17dd1096c14>:4: softmax_cross_entropy_with_logits (from tensorflow.python.ops.nn_ops) is deprecated and will be removed in a future version.\n",
      "Instructions for updating:\n",
      "\n",
      "Future major versions of TensorFlow will allow gradients to flow\n",
      "into the labels input on backprop by default.\n",
      "\n",
      "See `tf.nn.softmax_cross_entropy_with_logits_v2`.\n",
      "\n"
     ]
    }
   ],
   "source": [
    "# defiine loss function: cross-entropy with logits, i.e., with final outputs\n",
    "# calculate the softmax cross-entropy loss\n",
    "\n",
    "softmax_cross_entropy_loss = tf.nn.softmax_cross_entropy_with_logits(labels=y_true, logits=y_pred)\n",
    "\n",
    "# compute the mean of losses\n",
    "cross_entropy_mean = tf.reduce_mean (softmax_cross_entropy_loss)"
   ]
  },
  {
   "cell_type": "markdown",
   "metadata": {},
   "source": [
    "### create an optimizer to optimize CNN Model and set learning rate"
   ]
  },
  {
   "cell_type": "code",
   "execution_count": 39,
   "metadata": {},
   "outputs": [],
   "source": [
    "# get an Adam optimizer\n",
    "optimizer = tf.train.AdamOptimizer(learning_rate=0.001)"
   ]
  },
  {
   "cell_type": "markdown",
   "metadata": {},
   "source": [
    "### create a trainer to train CNN Model"
   ]
  },
  {
   "cell_type": "code",
   "execution_count": 40,
   "metadata": {},
   "outputs": [],
   "source": [
    "# create a CNN Model trainer that can train the model\n",
    "# and optimize the model by minimizing the softmax cross-entropy loss\n",
    "\n",
    "cnn_trainer = optimizer.minimize(cross_entropy_mean)"
   ]
  },
  {
   "cell_type": "markdown",
   "metadata": {},
   "source": [
    "# PHASE II: Train and Test CNN Model on CIFAR-10 Dataset"
   ]
  },
  {
   "cell_type": "markdown",
   "metadata": {},
   "source": [
    "### create a variable initializer to initialize all variables"
   ]
  },
  {
   "cell_type": "code",
   "execution_count": 41,
   "metadata": {},
   "outputs": [],
   "source": [
    "# get a variable initializer\n",
    "vars_initializer = tf.global_variables_initializer()"
   ]
  },
  {
   "cell_type": "markdown",
   "metadata": {
    "collapsed": true
   },
   "source": [
    "### set the steps"
   ]
  },
  {
   "cell_type": "code",
   "execution_count": 42,
   "metadata": {},
   "outputs": [],
   "source": [
    "# x: mnist.train: 50000 images\n",
    "# each time of training (run the whole process) = 1 step\n",
    "# each step, i.e., each time of training: use one bacth of inputs\n",
    "# batchsize = 50 images --> total number of bacthes : 50000/50 = 1000 batches\n",
    "\n",
    "# steps: 5000: finish the training after running 5000 times\n",
    "\n",
    "steps = 5000"
   ]
  },
  {
   "cell_type": "markdown",
   "metadata": {},
   "source": [
    "### run tf.session() to train and test deep learning CNN model"
   ]
  },
  {
   "cell_type": "code",
   "execution_count": 43,
   "metadata": {},
   "outputs": [
    {
     "name": "stdout",
     "output_type": "stream",
     "text": [
      "ON STEP: 0\n",
      "accuracy: \n",
      "0.132\n",
      "\n",
      "\n",
      "ON STEP: 100\n",
      "accuracy: \n",
      "0.3807\n",
      "\n",
      "\n",
      "ON STEP: 200\n",
      "accuracy: \n",
      "0.4346\n",
      "\n",
      "\n",
      "ON STEP: 300\n",
      "accuracy: \n",
      "0.4814\n",
      "\n",
      "\n",
      "ON STEP: 400\n",
      "accuracy: \n",
      "0.4976\n",
      "\n",
      "\n",
      "ON STEP: 500\n",
      "accuracy: \n",
      "0.5509\n",
      "\n",
      "\n",
      "ON STEP: 600\n",
      "accuracy: \n",
      "0.5531\n",
      "\n",
      "\n",
      "ON STEP: 700\n",
      "accuracy: \n",
      "0.577\n",
      "\n",
      "\n",
      "ON STEP: 800\n",
      "accuracy: \n",
      "0.5958\n",
      "\n",
      "\n",
      "ON STEP: 900\n",
      "accuracy: \n",
      "0.597\n",
      "\n",
      "\n",
      "ON STEP: 1000\n",
      "accuracy: \n",
      "0.6115\n",
      "\n",
      "\n",
      "ON STEP: 1100\n",
      "accuracy: \n",
      "0.624\n",
      "\n",
      "\n",
      "ON STEP: 1200\n",
      "accuracy: \n",
      "0.6094\n",
      "\n",
      "\n",
      "ON STEP: 1300\n",
      "accuracy: \n",
      "0.6279\n",
      "\n",
      "\n",
      "ON STEP: 1400\n",
      "accuracy: \n",
      "0.6331\n",
      "\n",
      "\n",
      "ON STEP: 1500\n",
      "accuracy: \n",
      "0.6548\n",
      "\n",
      "\n",
      "ON STEP: 1600\n",
      "accuracy: \n",
      "0.6479\n",
      "\n",
      "\n",
      "ON STEP: 1700\n",
      "accuracy: \n",
      "0.6399\n",
      "\n",
      "\n",
      "ON STEP: 1800\n",
      "accuracy: \n",
      "0.6439\n",
      "\n",
      "\n",
      "ON STEP: 1900\n",
      "accuracy: \n",
      "0.6671\n",
      "\n",
      "\n",
      "ON STEP: 2000\n",
      "accuracy: \n",
      "0.6496\n",
      "\n",
      "\n",
      "ON STEP: 2100\n",
      "accuracy: \n",
      "0.6715\n",
      "\n",
      "\n",
      "ON STEP: 2200\n",
      "accuracy: \n",
      "0.6682\n",
      "\n",
      "\n",
      "ON STEP: 2300\n",
      "accuracy: \n",
      "0.6612\n",
      "\n",
      "\n",
      "ON STEP: 2400\n",
      "accuracy: \n",
      "0.6689\n",
      "\n",
      "\n",
      "ON STEP: 2500\n",
      "accuracy: \n",
      "0.6546\n",
      "\n",
      "\n",
      "ON STEP: 2600\n",
      "accuracy: \n",
      "0.6741\n",
      "\n",
      "\n",
      "ON STEP: 2700\n",
      "accuracy: \n",
      "0.6785\n",
      "\n",
      "\n",
      "ON STEP: 2800\n",
      "accuracy: \n",
      "0.6603\n",
      "\n",
      "\n",
      "ON STEP: 2900\n",
      "accuracy: \n",
      "0.6789\n",
      "\n",
      "\n",
      "ON STEP: 3000\n",
      "accuracy: \n",
      "0.6543\n",
      "\n",
      "\n",
      "ON STEP: 3100\n",
      "accuracy: \n",
      "0.6659\n",
      "\n",
      "\n",
      "ON STEP: 3200\n",
      "accuracy: \n",
      "0.6788\n",
      "\n",
      "\n",
      "ON STEP: 3300\n",
      "accuracy: \n",
      "0.683\n",
      "\n",
      "\n",
      "ON STEP: 3400\n",
      "accuracy: \n",
      "0.683\n",
      "\n",
      "\n",
      "ON STEP: 3500\n",
      "accuracy: \n",
      "0.6563\n",
      "\n",
      "\n",
      "ON STEP: 3600\n",
      "accuracy: \n",
      "0.6703\n",
      "\n",
      "\n",
      "ON STEP: 3700\n",
      "accuracy: \n",
      "0.6806\n",
      "\n",
      "\n",
      "ON STEP: 3800\n",
      "accuracy: \n",
      "0.6806\n",
      "\n",
      "\n",
      "ON STEP: 3900\n",
      "accuracy: \n",
      "0.6824\n",
      "\n",
      "\n",
      "ON STEP: 4000\n",
      "accuracy: \n",
      "0.6761\n",
      "\n",
      "\n",
      "ON STEP: 4100\n",
      "accuracy: \n",
      "0.6736\n",
      "\n",
      "\n",
      "ON STEP: 4200\n",
      "accuracy: \n",
      "0.684\n",
      "\n",
      "\n",
      "ON STEP: 4300\n",
      "accuracy: \n",
      "0.6668\n",
      "\n",
      "\n",
      "ON STEP: 4400\n",
      "accuracy: \n",
      "0.6704\n",
      "\n",
      "\n",
      "ON STEP: 4500\n",
      "accuracy: \n",
      "0.6776\n",
      "\n",
      "\n",
      "ON STEP: 4600\n",
      "accuracy: \n",
      "0.6739\n",
      "\n",
      "\n",
      "ON STEP: 4700\n",
      "accuracy: \n",
      "0.6771\n",
      "\n",
      "\n",
      "ON STEP: 4800\n",
      "accuracy: \n",
      "0.6635\n",
      "\n",
      "\n",
      "ON STEP: 4900\n",
      "accuracy: \n",
      "0.6852\n",
      "\n",
      "\n"
     ]
    }
   ],
   "source": [
    "with tf.Session() as sess:\n",
    "    \n",
    "    # first, run initialize all variables to initialize all variables\n",
    "    sess.run(vars_initializer)\n",
    "    \n",
    "    for i in range(steps):\n",
    "        \n",
    "        # each batch : 100 images\n",
    "        batch_x, batch_y = ch.next_batch(100)\n",
    "        \n",
    "        #train the model\n",
    "        # dropout keep_prob (% to keep): 0.5 --> 50% will be dropped out\n",
    "        sess.run(cnn_trainer, feed_dict={x: batch_x, y_true:batch_y, hold_prob: 0.5})\n",
    "        \n",
    "        # test the model: at each 100th stepo\n",
    "        # run this block of code for each 100 times of training, each time run a batch\n",
    "        if i % 100 == 0:\n",
    "            print('ON STEP: {}'.format(i))\n",
    "            print('accuracy: ')\n",
    "            \n",
    "            # compare to find matches of y_pred and y_true\n",
    "            matches = tf.equal(tf.argmax(y_pred,1),tf.argmax(y_true,1))\n",
    "            \n",
    "            # cast the matches from integers to tf.float32\n",
    "            # calculate the accuracy using the mean of matches\n",
    "            acc = tf.reduce_mean(tf.cast(matches, tf.float32))\n",
    "            \n",
    "            # test the model at each 100th step\n",
    "            # using test dataset\n",
    "            # dropout: none because of test, not training\n",
    "            test_accuracy = sess.run(acc,feed_dict = {x:ch.test_images,\\\n",
    "                                                      y_true: ch.test_labels,\\\n",
    "                                                     hold_prob:1.0})\n",
    "            print(test_accuracy)\n",
    "            print('\\n')"
   ]
  }
 ],
 "metadata": {
  "kernelspec": {
   "display_name": "Python 3",
   "language": "python",
   "name": "python3"
  },
  "language_info": {
   "codemirror_mode": {
    "name": "ipython",
    "version": 3
   },
   "file_extension": ".py",
   "mimetype": "text/x-python",
   "name": "python",
   "nbconvert_exporter": "python",
   "pygments_lexer": "ipython3",
   "version": "3.7.4"
  }
 },
 "nbformat": 4,
 "nbformat_minor": 2
}
